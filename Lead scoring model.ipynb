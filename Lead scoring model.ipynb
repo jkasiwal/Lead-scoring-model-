{
 "cells": [
  {
   "cell_type": "code",
   "execution_count": 1,
   "id": "4c0b49b7",
   "metadata": {},
   "outputs": [],
   "source": [
    "import pandas as pd\n",
    "import numpy as np\n",
    "import time\n",
    "import warnings\n",
    "warnings.filterwarnings('ignore')\n",
    "\n",
    "from sklearn.linear_model import LogisticRegression\n",
    "from sklearn.tree import DecisionTreeClassifier\n",
    "from sklearn.neighbors import KNeighborsClassifier\n",
    "from sklearn.naive_bayes import GaussianNB\n",
    "from sklearn.ensemble import RandomForestClassifier\n",
    "from sklearn.ensemble import AdaBoostClassifier\n",
    "from sklearn.svm import SVC\n",
    "from sklearn.metrics import confusion_matrix\n",
    "from sklearn.metrics import classification_report\n",
    "from sklearn.metrics import plot_roc_curve\n",
    "from sklearn.metrics import roc_curve\n",
    "from sklearn.metrics import auc\n",
    "\n",
    "from sklearn.model_selection import KFold\n",
    "from sklearn.model_selection import cross_val_score"
   ]
  },
  {
   "cell_type": "code",
   "execution_count": 2,
   "id": "d5838e87",
   "metadata": {},
   "outputs": [],
   "source": [
    "df= pd.read_csv(r'C:/Users/ASUS/Desktop/Data_Science_Internship - Dump.csv',index_col=0)"
   ]
  },
  {
   "cell_type": "code",
   "execution_count": 3,
   "id": "b992ac1d",
   "metadata": {},
   "outputs": [],
   "source": [
    "df= df.drop_duplicates()"
   ]
  },
  {
   "cell_type": "code",
   "execution_count": 4,
   "id": "84c9dc6f",
   "metadata": {},
   "outputs": [],
   "source": [
    "df['source']= df['source'].replace('9b2d5b4678781e53038e91ea5324530a03f27dc1d0e5f6c9bc9d493a23be9de0',np.nan)\n",
    "df['source_city']= df['source_city'].replace('9b2d5b4678781e53038e91ea5324530a03f27dc1d0e5f6c9bc9d493a23be9de0',np.nan)\n",
    "df['source_country']= df['source_country'].replace('9b2d5b4678781e53038e91ea5324530a03f27dc1d0e5f6c9bc9d493a23be9de0',np.nan)\n",
    "df['utm_source']= df['utm_source'].replace('9b2d5b4678781e53038e91ea5324530a03f27dc1d0e5f6c9bc9d493a23be9de0',np.nan)\n",
    "df['utm_medium']= df['utm_medium'].replace('9b2d5b4678781e53038e91ea5324530a03f27dc1d0e5f6c9bc9d493a23be9de0',np.nan)\n",
    "df['des_city']= df['des_city'].replace('9b2d5b4678781e53038e91ea5324530a03f27dc1d0e5f6c9bc9d493a23be9de0',np.nan)\n",
    "df['des_country']= df['des_country'].replace('9b2d5b4678781e53038e91ea5324530a03f27dc1d0e5f6c9bc9d493a23be9de0',np.nan)\n",
    "df['source_country']= df['source_country'].replace('9b2d5b4678781e53038e91ea5324530a03f27dc1d0e5f6c9bc9d493a23be9de0',np.nan)\n",
    "df['lead_id']= df['lead_id'].replace('9b2d5b4678781e53038e91ea5324530a03f27dc1d0e5f6c9bc9d493a23be9de0',np.nan)"
   ]
  },
  {
   "cell_type": "code",
   "execution_count": 5,
   "id": "704dceb8",
   "metadata": {},
   "outputs": [],
   "source": [
    "ls=['LOST','WON']\n",
    "df= df[df['status'].isin(ls)]"
   ]
  },
  {
   "cell_type": "code",
   "execution_count": 6,
   "id": "1c1de688",
   "metadata": {},
   "outputs": [],
   "source": [
    "df= df.drop('room_type',axis=1)"
   ]
  },
  {
   "cell_type": "code",
   "execution_count": 7,
   "id": "7646c420",
   "metadata": {},
   "outputs": [],
   "source": [
    "lost= df[df['status']=='LOST']"
   ]
  },
  {
   "cell_type": "code",
   "execution_count": 8,
   "id": "fe5f3449",
   "metadata": {},
   "outputs": [
    {
     "data": {
      "text/plain": [
       "Agent_id              0\n",
       "status                0\n",
       "lost_reason           0\n",
       "budget             3608\n",
       "lease              2278\n",
       "movein            12974\n",
       "source             5776\n",
       "source_city        8274\n",
       "source_country     8070\n",
       "utm_source           58\n",
       "utm_medium         2710\n",
       "des_city           2468\n",
       "des_country        2468\n",
       "lead_id               0\n",
       "dtype: int64"
      ]
     },
     "execution_count": 8,
     "metadata": {},
     "output_type": "execute_result"
    }
   ],
   "source": [
    "lost.isna().sum()"
   ]
  },
  {
   "cell_type": "code",
   "execution_count": 9,
   "id": "b102e53d",
   "metadata": {},
   "outputs": [],
   "source": [
    "lost= lost.dropna()"
   ]
  },
  {
   "cell_type": "code",
   "execution_count": 10,
   "id": "844c5088",
   "metadata": {},
   "outputs": [
    {
     "data": {
      "text/plain": [
       "(21011, 14)"
      ]
     },
     "execution_count": 10,
     "metadata": {},
     "output_type": "execute_result"
    }
   ],
   "source": [
    "lost.shape"
   ]
  },
  {
   "cell_type": "code",
   "execution_count": 11,
   "id": "bad3507e",
   "metadata": {},
   "outputs": [],
   "source": [
    "won= df[df['status']=='WON']"
   ]
  },
  {
   "cell_type": "code",
   "execution_count": 12,
   "id": "67090920",
   "metadata": {},
   "outputs": [
    {
     "data": {
      "text/html": [
       "<div>\n",
       "<style scoped>\n",
       "    .dataframe tbody tr th:only-of-type {\n",
       "        vertical-align: middle;\n",
       "    }\n",
       "\n",
       "    .dataframe tbody tr th {\n",
       "        vertical-align: top;\n",
       "    }\n",
       "\n",
       "    .dataframe thead th {\n",
       "        text-align: right;\n",
       "    }\n",
       "</style>\n",
       "<table border=\"1\" class=\"dataframe\">\n",
       "  <thead>\n",
       "    <tr style=\"text-align: right;\">\n",
       "      <th></th>\n",
       "      <th>Agent_id</th>\n",
       "      <th>lost_reason</th>\n",
       "      <th>budget</th>\n",
       "      <th>lease</th>\n",
       "      <th>movein</th>\n",
       "      <th>source</th>\n",
       "      <th>source_city</th>\n",
       "      <th>source_country</th>\n",
       "      <th>utm_source</th>\n",
       "      <th>utm_medium</th>\n",
       "      <th>des_city</th>\n",
       "      <th>des_country</th>\n",
       "      <th>lead_id</th>\n",
       "    </tr>\n",
       "    <tr>\n",
       "      <th>status</th>\n",
       "      <th></th>\n",
       "      <th></th>\n",
       "      <th></th>\n",
       "      <th></th>\n",
       "      <th></th>\n",
       "      <th></th>\n",
       "      <th></th>\n",
       "      <th></th>\n",
       "      <th></th>\n",
       "      <th></th>\n",
       "      <th></th>\n",
       "      <th></th>\n",
       "      <th></th>\n",
       "    </tr>\n",
       "  </thead>\n",
       "  <tbody>\n",
       "    <tr>\n",
       "      <th>LOST</th>\n",
       "      <td>43235</td>\n",
       "      <td>43235</td>\n",
       "      <td>39627</td>\n",
       "      <td>40957</td>\n",
       "      <td>30261</td>\n",
       "      <td>37459</td>\n",
       "      <td>34961</td>\n",
       "      <td>35165</td>\n",
       "      <td>43177</td>\n",
       "      <td>40525</td>\n",
       "      <td>40767</td>\n",
       "      <td>40767</td>\n",
       "      <td>43235</td>\n",
       "    </tr>\n",
       "    <tr>\n",
       "      <th>WON</th>\n",
       "      <td>3072</td>\n",
       "      <td>0</td>\n",
       "      <td>2993</td>\n",
       "      <td>3016</td>\n",
       "      <td>2441</td>\n",
       "      <td>2902</td>\n",
       "      <td>2525</td>\n",
       "      <td>2530</td>\n",
       "      <td>3069</td>\n",
       "      <td>2599</td>\n",
       "      <td>3012</td>\n",
       "      <td>3012</td>\n",
       "      <td>3072</td>\n",
       "    </tr>\n",
       "  </tbody>\n",
       "</table>\n",
       "</div>"
      ],
      "text/plain": [
       "        Agent_id  lost_reason  budget  lease  movein  source  source_city  \\\n",
       "status                                                                      \n",
       "LOST       43235        43235   39627  40957   30261   37459        34961   \n",
       "WON         3072            0    2993   3016    2441    2902         2525   \n",
       "\n",
       "        source_country  utm_source  utm_medium  des_city  des_country  lead_id  \n",
       "status                                                                          \n",
       "LOST             35165       43177       40525     40767        40767    43235  \n",
       "WON               2530        3069        2599      3012         3012     3072  "
      ]
     },
     "execution_count": 12,
     "metadata": {},
     "output_type": "execute_result"
    }
   ],
   "source": [
    "df.groupby(['status']).count()"
   ]
  },
  {
   "cell_type": "code",
   "execution_count": 13,
   "id": "2ae5eaf3",
   "metadata": {},
   "outputs": [
    {
     "data": {
      "text/plain": [
       "(3072, 14)"
      ]
     },
     "execution_count": 13,
     "metadata": {},
     "output_type": "execute_result"
    }
   ],
   "source": [
    "won.shape"
   ]
  },
  {
   "cell_type": "code",
   "execution_count": 14,
   "id": "0cda036a",
   "metadata": {},
   "outputs": [
    {
     "data": {
      "text/plain": [
       "Agent_id             0\n",
       "status               0\n",
       "lost_reason       3072\n",
       "budget              79\n",
       "lease               56\n",
       "movein             631\n",
       "source             170\n",
       "source_city        547\n",
       "source_country     542\n",
       "utm_source           3\n",
       "utm_medium         473\n",
       "des_city            60\n",
       "des_country         60\n",
       "lead_id              0\n",
       "dtype: int64"
      ]
     },
     "execution_count": 14,
     "metadata": {},
     "output_type": "execute_result"
    }
   ],
   "source": [
    "won.isna().sum()"
   ]
  },
  {
   "cell_type": "code",
   "execution_count": 15,
   "id": "7ba031e0",
   "metadata": {},
   "outputs": [
    {
     "data": {
      "text/plain": [
       "Agent_id             0\n",
       "status               0\n",
       "lost_reason       3072\n",
       "budget              79\n",
       "lease               56\n",
       "movein             631\n",
       "source             170\n",
       "source_city        547\n",
       "source_country     542\n",
       "utm_source           3\n",
       "utm_medium         473\n",
       "des_city            60\n",
       "des_country         60\n",
       "lead_id              0\n",
       "dtype: int64"
      ]
     },
     "execution_count": 15,
     "metadata": {},
     "output_type": "execute_result"
    }
   ],
   "source": [
    "won.isna().sum()"
   ]
  },
  {
   "cell_type": "code",
   "execution_count": 16,
   "id": "c42f1033",
   "metadata": {},
   "outputs": [],
   "source": [
    "won['budget']=won['budget'].fillna(won['budget'].mode()[0])\n",
    "won['lease']=won['lease'].fillna(won['lease'].mode()[0])\n",
    "won['movein']=won['movein'].fillna(won['movein'].mode()[0])\n",
    "won['source']=won['source'].fillna(won['source'].mode()[0])\n",
    "won['source_city']=won['source_city'].fillna(won['source_city'].mode()[0])\n",
    "won['source_country']=won['source_country'].fillna(won['source_country'].mode()[0])\n",
    "won['utm_source']=won['utm_source'].fillna(won['utm_source'].mode()[0])\n",
    "won['utm_medium']=won['utm_medium'].fillna(won['utm_medium'].mode()[0])\n",
    "won['des_city']=won['des_city'].fillna(won['des_city'].mode()[0])\n",
    "won['des_country']=won['des_country'].fillna(won['des_country'].mode()[0])\n"
   ]
  },
  {
   "cell_type": "code",
   "execution_count": 17,
   "id": "4da2a3ac",
   "metadata": {},
   "outputs": [],
   "source": [
    "won= won.drop('lost_reason',axis=1)\n",
    "lost= lost.drop('lost_reason',axis=1)"
   ]
  },
  {
   "cell_type": "code",
   "execution_count": 18,
   "id": "5b5efd48",
   "metadata": {},
   "outputs": [],
   "source": [
    "new_df= pd.concat([won,lost])"
   ]
  },
  {
   "cell_type": "code",
   "execution_count": 19,
   "id": "0c3aaf50",
   "metadata": {},
   "outputs": [
    {
     "data": {
      "text/plain": [
       "(24083, 13)"
      ]
     },
     "execution_count": 19,
     "metadata": {},
     "output_type": "execute_result"
    }
   ],
   "source": [
    "new_df.shape"
   ]
  },
  {
   "cell_type": "code",
   "execution_count": 20,
   "id": "76a7e610",
   "metadata": {},
   "outputs": [],
   "source": [
    "from sklearn.model_selection import train_test_split\n",
    "from sklearn.preprocessing import LabelEncoder"
   ]
  },
  {
   "cell_type": "code",
   "execution_count": 21,
   "id": "7df9fbae",
   "metadata": {},
   "outputs": [],
   "source": [
    "le= LabelEncoder()"
   ]
  },
  {
   "cell_type": "code",
   "execution_count": 22,
   "id": "84ca2e75",
   "metadata": {},
   "outputs": [],
   "source": [
    "X= new_df.drop('status',axis=1)\n",
    "y= new_df['status']"
   ]
  },
  {
   "cell_type": "code",
   "execution_count": 23,
   "id": "1fae18a0",
   "metadata": {},
   "outputs": [],
   "source": [
    "X= X.apply(lambda x: le.fit_transform(x))"
   ]
  },
  {
   "cell_type": "code",
   "execution_count": 24,
   "id": "44e84843",
   "metadata": {},
   "outputs": [],
   "source": [
    "y= le.fit_transform(y)"
   ]
  },
  {
   "cell_type": "code",
   "execution_count": 25,
   "id": "005e9e0a",
   "metadata": {},
   "outputs": [
    {
     "name": "stdout",
     "output_type": "stream",
     "text": [
      "(19266, 12)\n",
      "(4817, 12)\n",
      "(19266,)\n",
      "(4817,)\n"
     ]
    }
   ],
   "source": [
    "X_train,X_test,y_train,y_test= train_test_split(X,y,test_size=0.2,stratify=y)\n",
    "\n",
    "print(X_train.shape)\n",
    "print(X_test.shape)\n",
    "print(y_train.shape)\n",
    "print(y_test.shape)"
   ]
  },
  {
   "cell_type": "code",
   "execution_count": 26,
   "id": "a6af6555",
   "metadata": {},
   "outputs": [],
   "source": [
    "import matplotlib.pyplot as plt\n",
    "from scipy.stats import chi2_contingency"
   ]
  },
  {
   "cell_type": "code",
   "execution_count": 27,
   "id": "2376b3b6",
   "metadata": {},
   "outputs": [],
   "source": [
    "# To rank all features\n",
    "\n",
    "chi_ls = []\n",
    "\n",
    "for feature in X_train.columns:\n",
    "    \n",
    "    # create contingency table\n",
    "    c = pd.crosstab(y_train, X_train[feature])\n",
    "    \n",
    "    # chi_test\n",
    "    p_value = chi2_contingency(c)[1]\n",
    "    chi_ls.append(p_value)"
   ]
  },
  {
   "cell_type": "code",
   "execution_count": 28,
   "id": "8ad21159",
   "metadata": {},
   "outputs": [
    {
     "data": {
      "text/plain": [
       "Text(0.5, 1.0, 'Feature importance based on chi-square test')"
      ]
     },
     "execution_count": 28,
     "metadata": {},
     "output_type": "execute_result"
    },
    {
     "data": {
      "image/png": "[encoded data removed]",
      "text/plain": [
       "<Figure size 432x288 with 1 Axes>"
      ]
     },
     "metadata": {
      "needs_background": "light"
     },
     "output_type": "display_data"
    }
   ],
   "source": [
    "pd.Series(chi_ls, index=X_train.columns).sort_values(ascending=True).plot.bar(rot=45)\n",
    "plt.ylabel('p value')\n",
    "plt.title('Feature importance based on chi-square test')"
   ]
  },
  {
   "cell_type": "code",
   "execution_count": 29,
   "id": "27b9c11e",
   "metadata": {},
   "outputs": [
    {
     "data": {
      "text/plain": [
       "Index(['budget', 'lease', 'source', 'utm_source', 'movein', 'utm_medium',\n",
       "       'des_city', 'Agent_id', 'source_country', 'source_city'],\n",
       "      dtype='object')"
      ]
     },
     "execution_count": 29,
     "metadata": {},
     "output_type": "execute_result"
    }
   ],
   "source": [
    "selected = pd.Series(chi_ls, index=X_train.columns).sort_values(\n",
    "    ascending=True)[0:10].index\n",
    "\n",
    "selected"
   ]
  },
  {
   "cell_type": "code",
   "execution_count": 30,
   "id": "53eafa10",
   "metadata": {},
   "outputs": [],
   "source": [
    "X_test= X_test[selected]\n",
    "X_train=X_train[selected]"
   ]
  },
  {
   "cell_type": "code",
   "execution_count": 31,
   "id": "54a8113a",
   "metadata": {},
   "outputs": [],
   "source": [
    "models={'LogisticRegression':LogisticRegression(),\n",
    "        'DecisionTree': DecisionTreeClassifier(),\n",
    "        'Random_foresest': RandomForestClassifier(),\n",
    "        'K-Nearest': KNeighborsClassifier(n_neighbors=3),\n",
    "        'Gaussian': GaussianNB(),\n",
    "        'SVM': SVC(),\n",
    "        'Adaboost': AdaBoostClassifier()}"
   ]
  },
  {
   "cell_type": "code",
   "execution_count": 32,
   "id": "7b892dca",
   "metadata": {},
   "outputs": [],
   "source": [
    "train_score={}\n",
    "test_score={}\n",
    "y_train_pred={}\n",
    "y_test_pred={}\n",
    "\n",
    "for name,model in models.items():\n",
    "    model.fit(X_train,y_train)\n",
    "    train_score[name]=model.score(X_train,y_train)\n",
    "    test_score[name]= model.score(X_test,y_test)\n",
    "    y_train_pred[name]= model.predict(X_train)\n",
    "    y_test_pred[name]= model.predict(X_test)"
   ]
  },
  {
   "cell_type": "code",
   "execution_count": 33,
   "id": "343c2408",
   "metadata": {},
   "outputs": [
    {
     "name": "stdout",
     "output_type": "stream",
     "text": [
      "Train_score: {'LogisticRegression': 0.8864320564725423, 'DecisionTree': 0.9997923803591819, 'Random_foresest': 0.9997404754489775, 'K-Nearest': 0.9154988061870653, 'Gaussian': 0.8177618602719817, 'SVM': 0.8857053877296792, 'Adaboost': 0.9050140143257552}\n",
      "\n",
      "\n",
      "Test_score: {'LogisticRegression': 0.8835374714552626, 'DecisionTree': 0.8384886859040896, 'Random_foresest': 0.9090720365372639, 'K-Nearest': 0.8714967822296035, 'Gaussian': 0.808802159020137, 'SVM': 0.8835374714552626, 'Adaboost': 0.9022212995640441}\n"
     ]
    }
   ],
   "source": [
    "print('Train_score:',train_score)\n",
    "print('\\n')\n",
    "print('Test_score:',test_score)"
   ]
  },
  {
   "cell_type": "code",
   "execution_count": 34,
   "id": "bdb059c1",
   "metadata": {},
   "outputs": [],
   "source": [
    "df= pd.DataFrame(test_score,index=['Test_accuracy'])\n",
    "df=df.transpose()"
   ]
  },
  {
   "cell_type": "code",
   "execution_count": 35,
   "id": "f0dfb098",
   "metadata": {},
   "outputs": [
    {
     "data": {
      "text/html": [
       "<div>\n",
       "<style scoped>\n",
       "    .dataframe tbody tr th:only-of-type {\n",
       "        vertical-align: middle;\n",
       "    }\n",
       "\n",
       "    .dataframe tbody tr th {\n",
       "        vertical-align: top;\n",
       "    }\n",
       "\n",
       "    .dataframe thead th {\n",
       "        text-align: right;\n",
       "    }\n",
       "</style>\n",
       "<table border=\"1\" class=\"dataframe\">\n",
       "  <thead>\n",
       "    <tr style=\"text-align: right;\">\n",
       "      <th></th>\n",
       "      <th>Test_accuracy</th>\n",
       "      <th>Train_accuracy</th>\n",
       "      <th>Difference</th>\n",
       "    </tr>\n",
       "  </thead>\n",
       "  <tbody>\n",
       "    <tr>\n",
       "      <th>LogisticRegression</th>\n",
       "      <td>0.883537</td>\n",
       "      <td>0.886432</td>\n",
       "      <td>0.002895</td>\n",
       "    </tr>\n",
       "    <tr>\n",
       "      <th>DecisionTree</th>\n",
       "      <td>0.838489</td>\n",
       "      <td>0.999792</td>\n",
       "      <td>0.161304</td>\n",
       "    </tr>\n",
       "    <tr>\n",
       "      <th>Random_foresest</th>\n",
       "      <td>0.909072</td>\n",
       "      <td>0.999740</td>\n",
       "      <td>0.090668</td>\n",
       "    </tr>\n",
       "    <tr>\n",
       "      <th>K-Nearest</th>\n",
       "      <td>0.871497</td>\n",
       "      <td>0.915499</td>\n",
       "      <td>0.044002</td>\n",
       "    </tr>\n",
       "    <tr>\n",
       "      <th>Gaussian</th>\n",
       "      <td>0.808802</td>\n",
       "      <td>0.817762</td>\n",
       "      <td>0.008960</td>\n",
       "    </tr>\n",
       "    <tr>\n",
       "      <th>SVM</th>\n",
       "      <td>0.883537</td>\n",
       "      <td>0.885705</td>\n",
       "      <td>0.002168</td>\n",
       "    </tr>\n",
       "    <tr>\n",
       "      <th>Adaboost</th>\n",
       "      <td>0.902221</td>\n",
       "      <td>0.905014</td>\n",
       "      <td>0.002793</td>\n",
       "    </tr>\n",
       "  </tbody>\n",
       "</table>\n",
       "</div>"
      ],
      "text/plain": [
       "                    Test_accuracy  Train_accuracy  Difference\n",
       "LogisticRegression       0.883537        0.886432    0.002895\n",
       "DecisionTree             0.838489        0.999792    0.161304\n",
       "Random_foresest          0.909072        0.999740    0.090668\n",
       "K-Nearest                0.871497        0.915499    0.044002\n",
       "Gaussian                 0.808802        0.817762    0.008960\n",
       "SVM                      0.883537        0.885705    0.002168\n",
       "Adaboost                 0.902221        0.905014    0.002793"
      ]
     },
     "execution_count": 35,
     "metadata": {},
     "output_type": "execute_result"
    }
   ],
   "source": [
    "df['Train_accuracy']=train_score.values()\n",
    "df['Difference']= (df['Train_accuracy']-df['Test_accuracy'])\n",
    "df"
   ]
  },
  {
   "cell_type": "code",
   "execution_count": 36,
   "id": "a74c267d",
   "metadata": {},
   "outputs": [
    {
     "data": {
      "image/png": "[encoded data removed]",
      "text/plain": [
       "<Figure size 432x288 with 1 Axes>"
      ]
     },
     "metadata": {
      "needs_background": "light"
     },
     "output_type": "display_data"
    }
   ],
   "source": [
    "df.plot.bar();"
   ]
  },
  {
   "cell_type": "code",
   "execution_count": 37,
   "id": "48c6c5c0",
   "metadata": {},
   "outputs": [],
   "source": [
    "lr= LogisticRegression()"
   ]
  },
  {
   "cell_type": "code",
   "execution_count": 38,
   "id": "ac6bdb92",
   "metadata": {},
   "outputs": [
    {
     "data": {
      "text/html": [
       "<style>#sk-container-id-1 {color: black;background-color: white;}#sk-container-id-1 pre{padding: 0;}#sk-container-id-1 div.sk-toggleable {background-color: white;}#sk-container-id-1 label.sk-toggleable__label {cursor: pointer;display: block;width: 100%;margin-bottom: 0;padding: 0.3em;box-sizing: border-box;text-align: center;}#sk-container-id-1 label.sk-toggleable__label-arrow:before {content: \"▸\";float: left;margin-right: 0.25em;color: #696969;}#sk-container-id-1 label.sk-toggleable__label-arrow:hover:before {color: black;}#sk-container-id-1 div.sk-estimator:hover label.sk-toggleable__label-arrow:before {color: black;}#sk-container-id-1 div.sk-toggleable__content {max-height: 0;max-width: 0;overflow: hidden;text-align: left;background-color: #f0f8ff;}#sk-container-id-1 div.sk-toggleable__content pre {margin: 0.2em;color: black;border-radius: 0.25em;background-color: #f0f8ff;}#sk-container-id-1 input.sk-toggleable__control:checked~div.sk-toggleable__content {max-height: 200px;max-width: 100%;overflow: auto;}#sk-container-id-1 input.sk-toggleable__control:checked~label.sk-toggleable__label-arrow:before {content: \"▾\";}#sk-container-id-1 div.sk-estimator input.sk-toggleable__control:checked~label.sk-toggleable__label {background-color: #d4ebff;}#sk-container-id-1 div.sk-label input.sk-toggleable__control:checked~label.sk-toggleable__label {background-color: #d4ebff;}#sk-container-id-1 input.sk-hidden--visually {border: 0;clip: rect(1px 1px 1px 1px);clip: rect(1px, 1px, 1px, 1px);height: 1px;margin: -1px;overflow: hidden;padding: 0;position: absolute;width: 1px;}#sk-container-id-1 div.sk-estimator {font-family: monospace;background-color: #f0f8ff;border: 1px dotted black;border-radius: 0.25em;box-sizing: border-box;margin-bottom: 0.5em;}#sk-container-id-1 div.sk-estimator:hover {background-color: #d4ebff;}#sk-container-id-1 div.sk-parallel-item::after {content: \"\";width: 100%;border-bottom: 1px solid gray;flex-grow: 1;}#sk-container-id-1 div.sk-label:hover label.sk-toggleable__label {background-color: #d4ebff;}#sk-container-id-1 div.sk-serial::before {content: \"\";position: absolute;border-left: 1px solid gray;box-sizing: border-box;top: 0;bottom: 0;left: 50%;z-index: 0;}#sk-container-id-1 div.sk-serial {display: flex;flex-direction: column;align-items: center;background-color: white;padding-right: 0.2em;padding-left: 0.2em;position: relative;}#sk-container-id-1 div.sk-item {position: relative;z-index: 1;}#sk-container-id-1 div.sk-parallel {display: flex;align-items: stretch;justify-content: center;background-color: white;position: relative;}#sk-container-id-1 div.sk-item::before, #sk-container-id-1 div.sk-parallel-item::before {content: \"\";position: absolute;border-left: 1px solid gray;box-sizing: border-box;top: 0;bottom: 0;left: 50%;z-index: -1;}#sk-container-id-1 div.sk-parallel-item {display: flex;flex-direction: column;z-index: 1;position: relative;background-color: white;}#sk-container-id-1 div.sk-parallel-item:first-child::after {align-self: flex-end;width: 50%;}#sk-container-id-1 div.sk-parallel-item:last-child::after {align-self: flex-start;width: 50%;}#sk-container-id-1 div.sk-parallel-item:only-child::after {width: 0;}#sk-container-id-1 div.sk-dashed-wrapped {border: 1px dashed gray;margin: 0 0.4em 0.5em 0.4em;box-sizing: border-box;padding-bottom: 0.4em;background-color: white;}#sk-container-id-1 div.sk-label label {font-family: monospace;font-weight: bold;display: inline-block;line-height: 1.2em;}#sk-container-id-1 div.sk-label-container {text-align: center;}#sk-container-id-1 div.sk-container {/* jupyter's `normalize.less` sets `[hidden] { display: none; }` but bootstrap.min.css set `[hidden] { display: none !important; }` so we also need the `!important` here to be able to override the default hidden behavior on the sphinx rendered scikit-learn.org. See: https://github.com/scikit-learn/scikit-learn/issues/21755 */display: inline-block !important;position: relative;}#sk-container-id-1 div.sk-text-repr-fallback {display: none;}</style><div id=\"sk-container-id-1\" class=\"sk-top-container\"><div class=\"sk-text-repr-fallback\"><pre>LogisticRegression()</pre><b>In a Jupyter environment, please rerun this cell to show the HTML representation or trust the notebook. <br />On GitHub, the HTML representation is unable to render, please try loading this page with nbviewer.org.</b></div><div class=\"sk-container\" hidden><div class=\"sk-item\"><div class=\"sk-estimator sk-toggleable\"><input class=\"sk-toggleable__control sk-hidden--visually\" id=\"sk-estimator-id-1\" type=\"checkbox\" checked><label for=\"sk-estimator-id-1\" class=\"sk-toggleable__label sk-toggleable__label-arrow\">LogisticRegression</label><div class=\"sk-toggleable__content\"><pre>LogisticRegression()</pre></div></div></div></div></div>"
      ],
      "text/plain": [
       "LogisticRegression()"
      ]
     },
     "execution_count": 38,
     "metadata": {},
     "output_type": "execute_result"
    }
   ],
   "source": [
    "lr.fit(X_train,y_train)"
   ]
  },
  {
   "cell_type": "code",
   "execution_count": 39,
   "id": "fa9aba8a",
   "metadata": {},
   "outputs": [
    {
     "data": {
      "text/plain": [
       "0.8830301720155177"
      ]
     },
     "execution_count": 39,
     "metadata": {},
     "output_type": "execute_result"
    }
   ],
   "source": [
    "cv_acc= cross_val_score(lr,X,y,cv=10,scoring='accuracy')\n",
    "cv_acc=np.mean(cv_acc)\n",
    "cv_acc"
   ]
  },
  {
   "cell_type": "code",
   "execution_count": 40,
   "id": "2b6605ca",
   "metadata": {},
   "outputs": [
    {
     "data": {
      "text/plain": [
       "0.6928921090151636"
      ]
     },
     "execution_count": 40,
     "metadata": {},
     "output_type": "execute_result"
    }
   ],
   "source": [
    "cv_pre= cross_val_score(lr,X,y,cv=10,scoring='precision')\n",
    "cv_pre= np.mean(cv_pre)\n",
    "cv_pre"
   ]
  },
  {
   "cell_type": "code",
   "execution_count": 41,
   "id": "95104181",
   "metadata": {},
   "outputs": [
    {
     "data": {
      "text/plain": [
       "0.146494141038115"
      ]
     },
     "execution_count": 41,
     "metadata": {},
     "output_type": "execute_result"
    }
   ],
   "source": [
    "cv_recall= cross_val_score(lr,X,y,cv=10,scoring='recall')\n",
    "cv_recall=np.mean(cv_recall)\n",
    "cv_recall"
   ]
  },
  {
   "cell_type": "code",
   "execution_count": 42,
   "id": "d74861c0",
   "metadata": {},
   "outputs": [
    {
     "data": {
      "text/plain": [
       "0.24036265331202147"
      ]
     },
     "execution_count": 42,
     "metadata": {},
     "output_type": "execute_result"
    }
   ],
   "source": [
    "cv_f1= cross_val_score(lr,X,y,cv=10,scoring='f1')\n",
    "cv_f1=np.mean(cv_f1)\n",
    "cv_f1"
   ]
  },
  {
   "cell_type": "code",
   "execution_count": 43,
   "id": "5d9b6f8d",
   "metadata": {},
   "outputs": [
    {
     "data": {
      "text/plain": [
       "{'Accuracy': 0.8830301720155177,\n",
       " 'Precision': 0.6928921090151636,\n",
       " 'Recall': 0.146494141038115,\n",
       " 'F1': 0.24036265331202147}"
      ]
     },
     "execution_count": 43,
     "metadata": {},
     "output_type": "execute_result"
    }
   ],
   "source": [
    "cv_metric= {'Accuracy': cv_acc,\n",
    "           'Precision': cv_pre,\n",
    "           'Recall': cv_recall,\n",
    "           'F1': cv_f1}\n",
    "\n",
    "cv_metric"
   ]
  },
  {
   "cell_type": "code",
   "execution_count": 44,
   "id": "63da261b",
   "metadata": {},
   "outputs": [],
   "source": [
    "df_2= pd.DataFrame(cv_metric,index=['Result'])\n",
    "df_2=df_2.T"
   ]
  },
  {
   "cell_type": "code",
   "execution_count": 45,
   "id": "f4eb8bf7",
   "metadata": {},
   "outputs": [
    {
     "data": {
      "image/png": "[encoded data removed]",
      "text/plain": [
       "<Figure size 432x288 with 1 Axes>"
      ]
     },
     "metadata": {
      "needs_background": "light"
     },
     "output_type": "display_data"
    }
   ],
   "source": [
    "df_2.plot.bar();"
   ]
  },
  {
   "cell_type": "code",
   "execution_count": 46,
   "id": "1d3cc134",
   "metadata": {},
   "outputs": [],
   "source": [
    "y_pred= lr.predict(X_test)\n",
    "y_prob= lr.predict_proba(X_test)"
   ]
  },
  {
   "cell_type": "code",
   "execution_count": 47,
   "id": "675192cf",
   "metadata": {},
   "outputs": [
    {
     "data": {
      "text/plain": [
       "array([[0.94783582, 0.05216418],\n",
       "       [0.92923949, 0.07076051],\n",
       "       [0.78799397, 0.21200603],\n",
       "       ...,\n",
       "       [0.96045549, 0.03954451],\n",
       "       [0.92523931, 0.07476069],\n",
       "       [0.95363616, 0.04636384]])"
      ]
     },
     "execution_count": 47,
     "metadata": {},
     "output_type": "execute_result"
    }
   ],
   "source": [
    "y_prob"
   ]
  },
  {
   "cell_type": "code",
   "execution_count": 48,
   "id": "a0d2f2cf",
   "metadata": {},
   "outputs": [
    {
     "data": {
      "image/png": "[encoded data removed]",
      "text/plain": [
       "<Figure size 432x288 with 1 Axes>"
      ]
     },
     "metadata": {
      "needs_background": "light"
     },
     "output_type": "display_data"
    }
   ],
   "source": [
    "positive_prob=y_prob[:,1]\n",
    "fpr,tpr,threshold= roc_curve(y_test,positive_prob)\n",
    "roc_auc= auc(fpr,tpr)\n",
    "plt.title('Recevier Operating Characteristic')\n",
    "plt.plot(fpr,tpr,'orange',label='AUC=%0.2f' % roc_auc)\n",
    "plt.legend(loc='lower right')\n",
    "plt.plot([0,1],[0,1],color='darkblue',linestyle='--')\n",
    "plt.ylabel('True Positive rate')\n",
    "plt.xlabel('False Positive rate');"
   ]
  },
  {
   "cell_type": "code",
   "execution_count": 49,
   "id": "09f55da1",
   "metadata": {},
   "outputs": [],
   "source": [
    "ada= AdaBoostClassifier()"
   ]
  },
  {
   "cell_type": "code",
   "execution_count": 50,
   "id": "f6f6f141",
   "metadata": {},
   "outputs": [
    {
     "data": {
      "text/html": [
       "<style>#sk-container-id-2 {color: black;background-color: white;}#sk-container-id-2 pre{padding: 0;}#sk-container-id-2 div.sk-toggleable {background-color: white;}#sk-container-id-2 label.sk-toggleable__label {cursor: pointer;display: block;width: 100%;margin-bottom: 0;padding: 0.3em;box-sizing: border-box;text-align: center;}#sk-container-id-2 label.sk-toggleable__label-arrow:before {content: \"▸\";float: left;margin-right: 0.25em;color: #696969;}#sk-container-id-2 label.sk-toggleable__label-arrow:hover:before {color: black;}#sk-container-id-2 div.sk-estimator:hover label.sk-toggleable__label-arrow:before {color: black;}#sk-container-id-2 div.sk-toggleable__content {max-height: 0;max-width: 0;overflow: hidden;text-align: left;background-color: #f0f8ff;}#sk-container-id-2 div.sk-toggleable__content pre {margin: 0.2em;color: black;border-radius: 0.25em;background-color: #f0f8ff;}#sk-container-id-2 input.sk-toggleable__control:checked~div.sk-toggleable__content {max-height: 200px;max-width: 100%;overflow: auto;}#sk-container-id-2 input.sk-toggleable__control:checked~label.sk-toggleable__label-arrow:before {content: \"▾\";}#sk-container-id-2 div.sk-estimator input.sk-toggleable__control:checked~label.sk-toggleable__label {background-color: #d4ebff;}#sk-container-id-2 div.sk-label input.sk-toggleable__control:checked~label.sk-toggleable__label {background-color: #d4ebff;}#sk-container-id-2 input.sk-hidden--visually {border: 0;clip: rect(1px 1px 1px 1px);clip: rect(1px, 1px, 1px, 1px);height: 1px;margin: -1px;overflow: hidden;padding: 0;position: absolute;width: 1px;}#sk-container-id-2 div.sk-estimator {font-family: monospace;background-color: #f0f8ff;border: 1px dotted black;border-radius: 0.25em;box-sizing: border-box;margin-bottom: 0.5em;}#sk-container-id-2 div.sk-estimator:hover {background-color: #d4ebff;}#sk-container-id-2 div.sk-parallel-item::after {content: \"\";width: 100%;border-bottom: 1px solid gray;flex-grow: 1;}#sk-container-id-2 div.sk-label:hover label.sk-toggleable__label {background-color: #d4ebff;}#sk-container-id-2 div.sk-serial::before {content: \"\";position: absolute;border-left: 1px solid gray;box-sizing: border-box;top: 0;bottom: 0;left: 50%;z-index: 0;}#sk-container-id-2 div.sk-serial {display: flex;flex-direction: column;align-items: center;background-color: white;padding-right: 0.2em;padding-left: 0.2em;position: relative;}#sk-container-id-2 div.sk-item {position: relative;z-index: 1;}#sk-container-id-2 div.sk-parallel {display: flex;align-items: stretch;justify-content: center;background-color: white;position: relative;}#sk-container-id-2 div.sk-item::before, #sk-container-id-2 div.sk-parallel-item::before {content: \"\";position: absolute;border-left: 1px solid gray;box-sizing: border-box;top: 0;bottom: 0;left: 50%;z-index: -1;}#sk-container-id-2 div.sk-parallel-item {display: flex;flex-direction: column;z-index: 1;position: relative;background-color: white;}#sk-container-id-2 div.sk-parallel-item:first-child::after {align-self: flex-end;width: 50%;}#sk-container-id-2 div.sk-parallel-item:last-child::after {align-self: flex-start;width: 50%;}#sk-container-id-2 div.sk-parallel-item:only-child::after {width: 0;}#sk-container-id-2 div.sk-dashed-wrapped {border: 1px dashed gray;margin: 0 0.4em 0.5em 0.4em;box-sizing: border-box;padding-bottom: 0.4em;background-color: white;}#sk-container-id-2 div.sk-label label {font-family: monospace;font-weight: bold;display: inline-block;line-height: 1.2em;}#sk-container-id-2 div.sk-label-container {text-align: center;}#sk-container-id-2 div.sk-container {/* jupyter's `normalize.less` sets `[hidden] { display: none; }` but bootstrap.min.css set `[hidden] { display: none !important; }` so we also need the `!important` here to be able to override the default hidden behavior on the sphinx rendered scikit-learn.org. See: https://github.com/scikit-learn/scikit-learn/issues/21755 */display: inline-block !important;position: relative;}#sk-container-id-2 div.sk-text-repr-fallback {display: none;}</style><div id=\"sk-container-id-2\" class=\"sk-top-container\"><div class=\"sk-text-repr-fallback\"><pre>AdaBoostClassifier()</pre><b>In a Jupyter environment, please rerun this cell to show the HTML representation or trust the notebook. <br />On GitHub, the HTML representation is unable to render, please try loading this page with nbviewer.org.</b></div><div class=\"sk-container\" hidden><div class=\"sk-item\"><div class=\"sk-estimator sk-toggleable\"><input class=\"sk-toggleable__control sk-hidden--visually\" id=\"sk-estimator-id-2\" type=\"checkbox\" checked><label for=\"sk-estimator-id-2\" class=\"sk-toggleable__label sk-toggleable__label-arrow\">AdaBoostClassifier</label><div class=\"sk-toggleable__content\"><pre>AdaBoostClassifier()</pre></div></div></div></div></div>"
      ],
      "text/plain": [
       "AdaBoostClassifier()"
      ]
     },
     "execution_count": 50,
     "metadata": {},
     "output_type": "execute_result"
    }
   ],
   "source": [
    "ada.fit(X_train,y_train)"
   ]
  },
  {
   "cell_type": "code",
   "execution_count": 51,
   "id": "6047566f",
   "metadata": {},
   "outputs": [
    {
     "data": {
      "text/plain": [
       "0.8995545669685523"
      ]
     },
     "execution_count": 51,
     "metadata": {},
     "output_type": "execute_result"
    }
   ],
   "source": [
    "cv_acc= cross_val_score(ada,X,y,cv=10,scoring='accuracy')\n",
    "cv_acc=np.mean(cv_acc)\n",
    "cv_acc"
   ]
  },
  {
   "cell_type": "code",
   "execution_count": 52,
   "id": "5f801f02",
   "metadata": {},
   "outputs": [
    {
     "data": {
      "text/plain": [
       "0.772285105820531"
      ]
     },
     "execution_count": 52,
     "metadata": {},
     "output_type": "execute_result"
    }
   ],
   "source": [
    "cv_pre= cross_val_score(ada,X,y,cv=10,scoring='precision')\n",
    "cv_pre= np.mean(cv_pre)\n",
    "cv_pre"
   ]
  },
  {
   "cell_type": "code",
   "execution_count": 53,
   "id": "5622f355",
   "metadata": {},
   "outputs": [
    {
     "data": {
      "text/plain": [
       "0.310546131393037"
      ]
     },
     "execution_count": 53,
     "metadata": {},
     "output_type": "execute_result"
    }
   ],
   "source": [
    "cv_recall= cross_val_score(ada,X,y,cv=10,scoring='recall')\n",
    "cv_recall=np.mean(cv_recall)\n",
    "cv_recall"
   ]
  },
  {
   "cell_type": "code",
   "execution_count": 54,
   "id": "05f77413",
   "metadata": {},
   "outputs": [
    {
     "data": {
      "text/plain": [
       "0.4399477321845279"
      ]
     },
     "execution_count": 54,
     "metadata": {},
     "output_type": "execute_result"
    }
   ],
   "source": [
    "cv_f1= cross_val_score(ada,X,y,cv=10,scoring='f1')\n",
    "cv_f1=np.mean(cv_f1)\n",
    "cv_f1"
   ]
  },
  {
   "cell_type": "code",
   "execution_count": 55,
   "id": "45eb4e22",
   "metadata": {},
   "outputs": [
    {
     "data": {
      "text/plain": [
       "{'Accuracy': 0.8995545669685523,\n",
       " 'Precision': 0.772285105820531,\n",
       " 'Recall': 0.310546131393037,\n",
       " 'F1': 0.4399477321845279}"
      ]
     },
     "execution_count": 55,
     "metadata": {},
     "output_type": "execute_result"
    }
   ],
   "source": [
    "cv_metric= {'Accuracy': cv_acc,\n",
    "           'Precision': cv_pre,\n",
    "           'Recall': cv_recall,\n",
    "           'F1': cv_f1}\n",
    "\n",
    "cv_metric"
   ]
  },
  {
   "cell_type": "code",
   "execution_count": 56,
   "id": "1f814004",
   "metadata": {},
   "outputs": [],
   "source": [
    "df_2= pd.DataFrame(cv_metric,index=['Result'])\n",
    "df_2=df_2.T"
   ]
  },
  {
   "cell_type": "code",
   "execution_count": 57,
   "id": "f6ed4316",
   "metadata": {},
   "outputs": [
    {
     "data": {
      "image/png": "[encoded data removed]",
      "text/plain": [
       "<Figure size 432x288 with 1 Axes>"
      ]
     },
     "metadata": {
      "needs_background": "light"
     },
     "output_type": "display_data"
    }
   ],
   "source": [
    "df_2.plot.bar();"
   ]
  },
  {
   "cell_type": "code",
   "execution_count": 58,
   "id": "281d7ebc",
   "metadata": {},
   "outputs": [],
   "source": [
    "y_pred= ada.predict(X_test)\n",
    "y_prob= ada.predict_proba(X_test)"
   ]
  },
  {
   "cell_type": "code",
   "execution_count": 59,
   "id": "a2585b3e",
   "metadata": {},
   "outputs": [
    {
     "data": {
      "image/png": "[encoded data removed]",
      "text/plain": [
       "<Figure size 432x288 with 1 Axes>"
      ]
     },
     "metadata": {
      "needs_background": "light"
     },
     "output_type": "display_data"
    }
   ],
   "source": [
    "positive_prob=y_prob[:,1]\n",
    "fpr,tpr,threshold= roc_curve(y_test,positive_prob)\n",
    "roc_auc= auc(fpr,tpr)\n",
    "plt.title('Recevier Operating Characteristic')\n",
    "plt.plot(fpr,tpr,'orange',label='AUC=%0.2f' % roc_auc)\n",
    "plt.legend(loc='lower right')\n",
    "plt.plot([0,1],[0,1],color='darkblue',linestyle='--')\n",
    "plt.ylabel('True Positive rate')\n",
    "plt.xlabel('False Positive rate');"
   ]
  },
  {
   "cell_type": "code",
   "execution_count": null,
   "id": "91d0a915",
   "metadata": {},
   "outputs": [],
   "source": []
  }
 ],
 "metadata": {
  "kernelspec": {
   "display_name": "Python 3",
   "language": "python",
   "name": "python3"
  },
  "language_info": {
   "codemirror_mode": {
    "name": "ipython",
    "version": 3
   },
   "file_extension": ".py",
   "mimetype": "text/x-python",
   "name": "python",
   "nbconvert_exporter": "python",
   "pygments_lexer": "ipython3",
   "version": "3.8.8"
  }
 },
 "nbformat": 4,
 "nbformat_minor": 5
}
